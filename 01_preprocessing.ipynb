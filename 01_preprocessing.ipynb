{
 "cells": [
  {
   "cell_type": "markdown",
   "id": "c9e0e63a",
   "metadata": {},
   "source": [
    "# Step 1: Data Preprocessing"
   ]
  },
  {
   "cell_type": "markdown",
   "id": "12324213",
   "metadata": {},
   "source": [
    "## Import required libraries"
   ]
  },
  {
   "cell_type": "code",
   "execution_count": 52,
   "id": "6765a40e",
   "metadata": {},
   "outputs": [],
   "source": [
    "import glob\n",
    "from os.path import join as opj\n",
    "from traffic.core import Traffic, Flight\n",
    "from traffic.algorithms.filters import FilterMedian, FilterMean\n",
    "import pandas as pd\n",
    "from datetime import datetime, timedelta\n",
    "\n",
    "from traffic.data import aixm_airspaces\n",
    "aixm_airspaces.data = aixm_airspaces.data.set_geometry(\"geometry\")\n",
    "\n",
    "import warnings\n",
    "warnings.filterwarnings(\"ignore\", category=FutureWarning)\n",
    "warnings.filterwarnings(\"ignore\", category=UserWarning)"
   ]
  },
  {
   "cell_type": "markdown",
   "id": "533aefe8",
   "metadata": {},
   "source": [
    "## Helper functions"
   ]
  },
  {
   "cell_type": "code",
   "execution_count": 53,
   "id": "9e2f6bac",
   "metadata": {},
   "outputs": [],
   "source": [
    "lsasfra = aixm_airspaces[\"LSASFRA\"]\n",
    "\n",
    "# Removal of short flights\n",
    "def remove_short(flight):\n",
    "    if len(flight) > 72:\n",
    "        return flight\n",
    "\n",
    "# Removal of flights with no altitude\n",
    "def remove_ground_only(flight):\n",
    "    if not flight.data['altitude'].isna().all():\n",
    "        return flight\n",
    "\n",
    "# Resampling the flight data\n",
    "def resample_flight(flight):\n",
    "    df = flight.data\n",
    "\n",
    "    df[\"original\"] = True\n",
    "\n",
    "    # Resample to 1-second intervals\n",
    "    df = df.set_index(\"timestamp\")\n",
    "    df = df[~df.index.duplicated(keep=\"first\")]\n",
    "    df_resampled = df.resample(\"1s\").asfreq()\n",
    "    df_resampled[\"original\"] = False\n",
    "\n",
    "    # Combine the original and resampled, then sort\n",
    "    df_combined = pd.concat([df, df_resampled[~df_resampled.index.isin(df.index)]])\n",
    "    df_combined = df_combined.sort_values(\"timestamp\")\n",
    "\n",
    "    # interpolate and fill\n",
    "    interpolate_cols = [\n",
    "        \"latitude\",\n",
    "        \"longitude\",\n",
    "        \"altitude\",\n",
    "        \"vertical_rate\",\n",
    "        \"geominusbaro\",\n",
    "        \"geoaltitude\",\n",
    "        \"groundspeed\",\n",
    "        \"track\",\n",
    "    ]\n",
    "    df_combined[interpolate_cols] = df_combined[interpolate_cols].interpolate(\n",
    "        method=\"time\"\n",
    "    )\n",
    "    fill_cols = [\n",
    "        \"icao24\",\n",
    "        \"squawk\",\n",
    "        \"nic\",\n",
    "        \"onground\",\n",
    "        \"callsign\",\n",
    "        \"flight_id\",\n",
    "        \"typecode\",\n",
    "    ]\n",
    "    df_combined[\"nic\"] = pd.to_numeric(df_combined[\"nic\"], errors=\"coerce\").astype(\n",
    "        \"Int64\"\n",
    "    )\n",
    "    df_combined = df_combined.astype(\n",
    "        {\n",
    "            \"icao24\": \"string\",\n",
    "            \"squawk\": \"string\",\n",
    "            \"onground\": \"boolean\",\n",
    "            \"callsign\": \"string\",\n",
    "            \"flight_id\": \"string\",\n",
    "            \"typecode\": \"string\",\n",
    "        }\n",
    "    )\n",
    "    df_combined[fill_cols] = df_combined[fill_cols].ffill().bfill()\n",
    "\n",
    "    # Only keep resampled rows\n",
    "    df_combined = df_combined[df_combined.original == False]\n",
    "    df_combined = df_combined.reset_index()\n",
    "    df_combined = df_combined[\n",
    "        [\n",
    "            \"timestamp\",\n",
    "            \"icao24\",\n",
    "            \"latitude\",\n",
    "            \"longitude\",\n",
    "            \"onground\",\n",
    "            \"altitude\",\n",
    "            \"nic\",\n",
    "            \"vertical_rate\",\n",
    "            \"geominusbaro\",\n",
    "            \"geoaltitude\",\n",
    "            \"groundspeed\",\n",
    "            \"track\",\n",
    "            \"squawk\",\n",
    "            \"callsign\",\n",
    "            \"flight_id\",\n",
    "            \"typecode\"\n",
    "        ]\n",
    "    ]\n",
    "\n",
    "    return Flight(df_combined)"
   ]
  },
  {
   "cell_type": "markdown",
   "id": "055574cb",
   "metadata": {},
   "source": [
    "## PreProcessing Loop"
   ]
  },
  {
   "cell_type": "code",
   "execution_count": null,
   "id": "addd1736",
   "metadata": {},
   "outputs": [
    {
     "name": "stdout",
     "output_type": "stream",
     "text": [
      "processing 2024-07-01\n"
     ]
    },
    {
     "data": {
      "application/vnd.jupyter.widget-view+json": {
       "model_id": "f5cd5fb0187f4c219bd9bd8701a87aea",
       "version_major": 2,
       "version_minor": 0
      },
      "text/plain": [
       "Assigning IDs:   0%|          | 0/40655 [00:00<?, ?it/s]"
      ]
     },
     "metadata": {},
     "output_type": "display_data"
    },
    {
     "data": {
      "application/vnd.jupyter.widget-view+json": {
       "model_id": "aa5389e18c284a69a241feae4b41f228",
       "version_major": 2,
       "version_minor": 0
      },
      "text/plain": [
       "Processing:   0%|          | 0/40655 [00:00<?, ?it/s]"
      ]
     },
     "metadata": {},
     "output_type": "display_data"
    },
    {
     "name": "stdout",
     "output_type": "stream",
     "text": [
      "processing 2024-07-02\n"
     ]
    },
    {
     "data": {
      "application/vnd.jupyter.widget-view+json": {
       "model_id": "d19cee89c3584403bceb80f292b24846",
       "version_major": 2,
       "version_minor": 0
      },
      "text/plain": [
       "Assigning IDs:   0%|          | 0/50805 [00:00<?, ?it/s]"
      ]
     },
     "metadata": {},
     "output_type": "display_data"
    },
    {
     "data": {
      "application/vnd.jupyter.widget-view+json": {
       "model_id": "f014abb8d6924f4fb9cfcff9c84c3c4e",
       "version_major": 2,
       "version_minor": 0
      },
      "text/plain": [
       "Processing:   0%|          | 0/50805 [00:00<?, ?it/s]"
      ]
     },
     "metadata": {},
     "output_type": "display_data"
    },
    {
     "name": "stdout",
     "output_type": "stream",
     "text": [
      "processing 2024-07-03\n"
     ]
    },
    {
     "data": {
      "application/vnd.jupyter.widget-view+json": {
       "model_id": "b76beace2ff24f21b0866ab9b121c522",
       "version_major": 2,
       "version_minor": 0
      },
      "text/plain": [
       "Assigning IDs:   0%|          | 0/42730 [00:00<?, ?it/s]"
      ]
     },
     "metadata": {},
     "output_type": "display_data"
    },
    {
     "data": {
      "application/vnd.jupyter.widget-view+json": {
       "model_id": "efe3c87042024f9fa592f2a47129aee8",
       "version_major": 2,
       "version_minor": 0
      },
      "text/plain": [
       "Processing:   0%|          | 0/42730 [00:00<?, ?it/s]"
      ]
     },
     "metadata": {},
     "output_type": "display_data"
    },
    {
     "name": "stdout",
     "output_type": "stream",
     "text": [
      "processing 2024-07-04\n"
     ]
    },
    {
     "data": {
      "application/vnd.jupyter.widget-view+json": {
       "model_id": "d012dfc9671343e4938799b901525fd1",
       "version_major": 2,
       "version_minor": 0
      },
      "text/plain": [
       "Assigning IDs:   0%|          | 0/40588 [00:00<?, ?it/s]"
      ]
     },
     "metadata": {},
     "output_type": "display_data"
    },
    {
     "data": {
      "application/vnd.jupyter.widget-view+json": {
       "model_id": "103010ab72f140209ac0d2331f98b44a",
       "version_major": 2,
       "version_minor": 0
      },
      "text/plain": [
       "Processing:   0%|          | 0/40588 [00:00<?, ?it/s]"
      ]
     },
     "metadata": {},
     "output_type": "display_data"
    },
    {
     "name": "stdout",
     "output_type": "stream",
     "text": [
      "processing 2024-07-05\n"
     ]
    },
    {
     "data": {
      "application/vnd.jupyter.widget-view+json": {
       "model_id": "c99350a5b91f4df4b423a3edc8be90cf",
       "version_major": 2,
       "version_minor": 0
      },
      "text/plain": [
       "Assigning IDs:   0%|          | 0/47710 [00:00<?, ?it/s]"
      ]
     },
     "metadata": {},
     "output_type": "display_data"
    },
    {
     "data": {
      "application/vnd.jupyter.widget-view+json": {
       "model_id": "6925e32cd01741be83dc05c09dbd96c9",
       "version_major": 2,
       "version_minor": 0
      },
      "text/plain": [
       "Processing:   0%|          | 0/47710 [00:00<?, ?it/s]"
      ]
     },
     "metadata": {},
     "output_type": "display_data"
    },
    {
     "name": "stdout",
     "output_type": "stream",
     "text": [
      "processing 2024-07-06\n"
     ]
    },
    {
     "data": {
      "application/vnd.jupyter.widget-view+json": {
       "model_id": "b83f4b2b150c47e1bcdcec42b47eb21e",
       "version_major": 2,
       "version_minor": 0
      },
      "text/plain": [
       "Assigning IDs:   0%|          | 0/33699 [00:00<?, ?it/s]"
      ]
     },
     "metadata": {},
     "output_type": "display_data"
    },
    {
     "data": {
      "application/vnd.jupyter.widget-view+json": {
       "model_id": "9f11c5d9350748acaefa5cd713ddcdb0",
       "version_major": 2,
       "version_minor": 0
      },
      "text/plain": [
       "Processing:   0%|          | 0/33699 [00:00<?, ?it/s]"
      ]
     },
     "metadata": {},
     "output_type": "display_data"
    },
    {
     "name": "stdout",
     "output_type": "stream",
     "text": [
      "processing 2024-07-07\n"
     ]
    },
    {
     "data": {
      "application/vnd.jupyter.widget-view+json": {
       "model_id": "ed0043e5561a477ca7d8c3d8e32d7177",
       "version_major": 2,
       "version_minor": 0
      },
      "text/plain": [
       "Assigning IDs:   0%|          | 0/32256 [00:00<?, ?it/s]"
      ]
     },
     "metadata": {},
     "output_type": "display_data"
    },
    {
     "data": {
      "application/vnd.jupyter.widget-view+json": {
       "model_id": "74c2e54cc20742f9b201eadb999ea277",
       "version_major": 2,
       "version_minor": 0
      },
      "text/plain": [
       "Processing:   0%|          | 0/32256 [00:00<?, ?it/s]"
      ]
     },
     "metadata": {},
     "output_type": "display_data"
    },
    {
     "name": "stdout",
     "output_type": "stream",
     "text": [
      "processing 2024-07-08\n"
     ]
    },
    {
     "data": {
      "application/vnd.jupyter.widget-view+json": {
       "model_id": "d4674b3f0f684250b77ae32b29731228",
       "version_major": 2,
       "version_minor": 0
      },
      "text/plain": [
       "Assigning IDs:   0%|          | 0/39226 [00:00<?, ?it/s]"
      ]
     },
     "metadata": {},
     "output_type": "display_data"
    },
    {
     "data": {
      "application/vnd.jupyter.widget-view+json": {
       "model_id": "442673a70c0f4f789fc09fbf6e14e246",
       "version_major": 2,
       "version_minor": 0
      },
      "text/plain": [
       "Processing:   0%|          | 0/39226 [00:00<?, ?it/s]"
      ]
     },
     "metadata": {},
     "output_type": "display_data"
    },
    {
     "name": "stdout",
     "output_type": "stream",
     "text": [
      "processing 2024-07-09\n"
     ]
    },
    {
     "data": {
      "application/vnd.jupyter.widget-view+json": {
       "model_id": "9b41ad7d12bb44889d9c042181933196",
       "version_major": 2,
       "version_minor": 0
      },
      "text/plain": [
       "Assigning IDs:   0%|          | 0/41435 [00:00<?, ?it/s]"
      ]
     },
     "metadata": {},
     "output_type": "display_data"
    },
    {
     "data": {
      "application/vnd.jupyter.widget-view+json": {
       "model_id": "a320e8f258904f0b8b457dd3ab204cb4",
       "version_major": 2,
       "version_minor": 0
      },
      "text/plain": [
       "Processing:   0%|          | 0/41435 [00:00<?, ?it/s]"
      ]
     },
     "metadata": {},
     "output_type": "display_data"
    },
    {
     "name": "stdout",
     "output_type": "stream",
     "text": [
      "processing 2024-07-10\n"
     ]
    },
    {
     "data": {
      "application/vnd.jupyter.widget-view+json": {
       "model_id": "ee2e7fa70dd445479e1e90dbfa03ab60",
       "version_major": 2,
       "version_minor": 0
      },
      "text/plain": [
       "Assigning IDs:   0%|          | 0/39633 [00:00<?, ?it/s]"
      ]
     },
     "metadata": {},
     "output_type": "display_data"
    },
    {
     "data": {
      "application/vnd.jupyter.widget-view+json": {
       "model_id": "2b00f89bc538420c82806c17df6b9fe5",
       "version_major": 2,
       "version_minor": 0
      },
      "text/plain": [
       "Processing:   0%|          | 0/39633 [00:00<?, ?it/s]"
      ]
     },
     "metadata": {},
     "output_type": "display_data"
    },
    {
     "name": "stdout",
     "output_type": "stream",
     "text": [
      "processing 2024-07-11\n"
     ]
    },
    {
     "data": {
      "application/vnd.jupyter.widget-view+json": {
       "model_id": "6cb728923b5742d0bf2387beca02dcc4",
       "version_major": 2,
       "version_minor": 0
      },
      "text/plain": [
       "Assigning IDs:   0%|          | 0/44121 [00:00<?, ?it/s]"
      ]
     },
     "metadata": {},
     "output_type": "display_data"
    },
    {
     "data": {
      "application/vnd.jupyter.widget-view+json": {
       "model_id": "dde6ff774358454f9111fb373ec4e808",
       "version_major": 2,
       "version_minor": 0
      },
      "text/plain": [
       "Processing:   0%|          | 0/44121 [00:00<?, ?it/s]"
      ]
     },
     "metadata": {},
     "output_type": "display_data"
    },
    {
     "name": "stdout",
     "output_type": "stream",
     "text": [
      "processing 2024-07-12\n"
     ]
    },
    {
     "data": {
      "application/vnd.jupyter.widget-view+json": {
       "model_id": "71b9589b0faa4e9aac16f4baebb522ae",
       "version_major": 2,
       "version_minor": 0
      },
      "text/plain": [
       "Assigning IDs:   0%|          | 0/36328 [00:00<?, ?it/s]"
      ]
     },
     "metadata": {},
     "output_type": "display_data"
    },
    {
     "data": {
      "application/vnd.jupyter.widget-view+json": {
       "model_id": "90d6ca37eb4244f9b1129384ed93a6d7",
       "version_major": 2,
       "version_minor": 0
      },
      "text/plain": [
       "Processing:   0%|          | 0/36328 [00:00<?, ?it/s]"
      ]
     },
     "metadata": {},
     "output_type": "display_data"
    },
    {
     "name": "stdout",
     "output_type": "stream",
     "text": [
      "processing 2024-07-13\n"
     ]
    },
    {
     "data": {
      "application/vnd.jupyter.widget-view+json": {
       "model_id": "09b2b796bcc442b5b9bd28ca62c93639",
       "version_major": 2,
       "version_minor": 0
      },
      "text/plain": [
       "Assigning IDs:   0%|          | 0/38746 [00:00<?, ?it/s]"
      ]
     },
     "metadata": {},
     "output_type": "display_data"
    },
    {
     "data": {
      "application/vnd.jupyter.widget-view+json": {
       "model_id": "f50f2b4b6fda4c07bec0c9266de03241",
       "version_major": 2,
       "version_minor": 0
      },
      "text/plain": [
       "Processing:   0%|          | 0/38746 [00:00<?, ?it/s]"
      ]
     },
     "metadata": {},
     "output_type": "display_data"
    },
    {
     "name": "stdout",
     "output_type": "stream",
     "text": [
      "processing 2024-07-14\n"
     ]
    },
    {
     "data": {
      "application/vnd.jupyter.widget-view+json": {
       "model_id": "9a1288414ce54f6fb2d86b814d14943f",
       "version_major": 2,
       "version_minor": 0
      },
      "text/plain": [
       "Assigning IDs:   0%|          | 0/42353 [00:00<?, ?it/s]"
      ]
     },
     "metadata": {},
     "output_type": "display_data"
    },
    {
     "data": {
      "application/vnd.jupyter.widget-view+json": {
       "model_id": "756574862f2140c185f4b578a55c4d34",
       "version_major": 2,
       "version_minor": 0
      },
      "text/plain": [
       "Processing:   0%|          | 0/42353 [00:00<?, ?it/s]"
      ]
     },
     "metadata": {},
     "output_type": "display_data"
    },
    {
     "name": "stdout",
     "output_type": "stream",
     "text": [
      "processing 2024-07-15\n"
     ]
    },
    {
     "data": {
      "application/vnd.jupyter.widget-view+json": {
       "model_id": "081ab60b925149b888de4c866fc31c90",
       "version_major": 2,
       "version_minor": 0
      },
      "text/plain": [
       "Assigning IDs:   0%|          | 0/40604 [00:00<?, ?it/s]"
      ]
     },
     "metadata": {},
     "output_type": "display_data"
    },
    {
     "data": {
      "application/vnd.jupyter.widget-view+json": {
       "model_id": "2f967a180c444813af4ba72cbebbe934",
       "version_major": 2,
       "version_minor": 0
      },
      "text/plain": [
       "Processing:   0%|          | 0/40604 [00:00<?, ?it/s]"
      ]
     },
     "metadata": {},
     "output_type": "display_data"
    },
    {
     "name": "stdout",
     "output_type": "stream",
     "text": [
      "processing 2024-07-16\n"
     ]
    },
    {
     "data": {
      "application/vnd.jupyter.widget-view+json": {
       "model_id": "25ed11849e364364913a6391e10c4de7",
       "version_major": 2,
       "version_minor": 0
      },
      "text/plain": [
       "Assigning IDs:   0%|          | 0/42544 [00:00<?, ?it/s]"
      ]
     },
     "metadata": {},
     "output_type": "display_data"
    },
    {
     "data": {
      "application/vnd.jupyter.widget-view+json": {
       "model_id": "b416f484baaf4f43a1053d42e9c84fbc",
       "version_major": 2,
       "version_minor": 0
      },
      "text/plain": [
       "Processing:   0%|          | 0/42544 [00:00<?, ?it/s]"
      ]
     },
     "metadata": {},
     "output_type": "display_data"
    },
    {
     "name": "stdout",
     "output_type": "stream",
     "text": [
      "processing 2024-07-17\n"
     ]
    },
    {
     "data": {
      "application/vnd.jupyter.widget-view+json": {
       "model_id": "ee0d46b2cd084ab3973e3b5dbe7adb17",
       "version_major": 2,
       "version_minor": 0
      },
      "text/plain": [
       "Assigning IDs:   0%|          | 0/44187 [00:00<?, ?it/s]"
      ]
     },
     "metadata": {},
     "output_type": "display_data"
    },
    {
     "data": {
      "application/vnd.jupyter.widget-view+json": {
       "model_id": "f38928d8b26a42dc99eeafe67c1ef980",
       "version_major": 2,
       "version_minor": 0
      },
      "text/plain": [
       "Processing:   0%|          | 0/44187 [00:00<?, ?it/s]"
      ]
     },
     "metadata": {},
     "output_type": "display_data"
    },
    {
     "name": "stdout",
     "output_type": "stream",
     "text": [
      "processing 2024-07-18\n"
     ]
    },
    {
     "data": {
      "application/vnd.jupyter.widget-view+json": {
       "model_id": "9d767bf56d0c4b7c837315e46e57146d",
       "version_major": 2,
       "version_minor": 0
      },
      "text/plain": [
       "Assigning IDs:   0%|          | 0/47471 [00:00<?, ?it/s]"
      ]
     },
     "metadata": {},
     "output_type": "display_data"
    },
    {
     "data": {
      "application/vnd.jupyter.widget-view+json": {
       "model_id": "0bda2e8ff2874825b92aa23a2c101148",
       "version_major": 2,
       "version_minor": 0
      },
      "text/plain": [
       "Processing:   0%|          | 0/47471 [00:00<?, ?it/s]"
      ]
     },
     "metadata": {},
     "output_type": "display_data"
    },
    {
     "name": "stdout",
     "output_type": "stream",
     "text": [
      "processing 2024-07-19\n"
     ]
    },
    {
     "data": {
      "application/vnd.jupyter.widget-view+json": {
       "model_id": "6dfa8a4ef63f4da8842be2129d5531bf",
       "version_major": 2,
       "version_minor": 0
      },
      "text/plain": [
       "Assigning IDs:   0%|          | 0/42954 [00:00<?, ?it/s]"
      ]
     },
     "metadata": {},
     "output_type": "display_data"
    },
    {
     "data": {
      "application/vnd.jupyter.widget-view+json": {
       "model_id": "3c9d711331e849678e24c53ff4be4b55",
       "version_major": 2,
       "version_minor": 0
      },
      "text/plain": [
       "Processing:   0%|          | 0/42954 [00:00<?, ?it/s]"
      ]
     },
     "metadata": {},
     "output_type": "display_data"
    },
    {
     "name": "stdout",
     "output_type": "stream",
     "text": [
      "processing 2024-07-20\n"
     ]
    },
    {
     "data": {
      "application/vnd.jupyter.widget-view+json": {
       "model_id": "3ceb4bb964084d3da00f29798d165c91",
       "version_major": 2,
       "version_minor": 0
      },
      "text/plain": [
       "Assigning IDs:   0%|          | 0/48259 [00:00<?, ?it/s]"
      ]
     },
     "metadata": {},
     "output_type": "display_data"
    },
    {
     "data": {
      "application/vnd.jupyter.widget-view+json": {
       "model_id": "f0e4d548263d4cb3b3c98ed8d41729dd",
       "version_major": 2,
       "version_minor": 0
      },
      "text/plain": [
       "Processing:   0%|          | 0/48259 [00:00<?, ?it/s]"
      ]
     },
     "metadata": {},
     "output_type": "display_data"
    },
    {
     "name": "stdout",
     "output_type": "stream",
     "text": [
      "processing 2024-07-21\n"
     ]
    },
    {
     "data": {
      "application/vnd.jupyter.widget-view+json": {
       "model_id": "4afb9eabd159415d9428ebb602e1ff23",
       "version_major": 2,
       "version_minor": 0
      },
      "text/plain": [
       "Assigning IDs:   0%|          | 0/30764 [00:00<?, ?it/s]"
      ]
     },
     "metadata": {},
     "output_type": "display_data"
    },
    {
     "data": {
      "application/vnd.jupyter.widget-view+json": {
       "model_id": "a3c80d9f17034f9d8680dafb73e17d7e",
       "version_major": 2,
       "version_minor": 0
      },
      "text/plain": [
       "Processing:   0%|          | 0/30764 [00:00<?, ?it/s]"
      ]
     },
     "metadata": {},
     "output_type": "display_data"
    },
    {
     "name": "stdout",
     "output_type": "stream",
     "text": [
      "processing 2024-07-22\n"
     ]
    },
    {
     "data": {
      "application/vnd.jupyter.widget-view+json": {
       "model_id": "829bc533988e43f19d8cbd2313277e8a",
       "version_major": 2,
       "version_minor": 0
      },
      "text/plain": [
       "Assigning IDs:   0%|          | 0/38997 [00:00<?, ?it/s]"
      ]
     },
     "metadata": {},
     "output_type": "display_data"
    },
    {
     "data": {
      "application/vnd.jupyter.widget-view+json": {
       "model_id": "3fde6d0c40ff4133bdc484806cd8c8b6",
       "version_major": 2,
       "version_minor": 0
      },
      "text/plain": [
       "Processing:   0%|          | 0/38997 [00:00<?, ?it/s]"
      ]
     },
     "metadata": {},
     "output_type": "display_data"
    },
    {
     "name": "stdout",
     "output_type": "stream",
     "text": [
      "processing 2024-07-23\n"
     ]
    },
    {
     "data": {
      "application/vnd.jupyter.widget-view+json": {
       "model_id": "b2be35f33aca42baa5178f1184873a77",
       "version_major": 2,
       "version_minor": 0
      },
      "text/plain": [
       "Assigning IDs:   0%|          | 0/42917 [00:00<?, ?it/s]"
      ]
     },
     "metadata": {},
     "output_type": "display_data"
    },
    {
     "data": {
      "application/vnd.jupyter.widget-view+json": {
       "model_id": "f6f6b688db3e480099e32c4eb0d05db6",
       "version_major": 2,
       "version_minor": 0
      },
      "text/plain": [
       "Processing:   0%|          | 0/42917 [00:00<?, ?it/s]"
      ]
     },
     "metadata": {},
     "output_type": "display_data"
    },
    {
     "name": "stdout",
     "output_type": "stream",
     "text": [
      "processing 2024-07-24\n"
     ]
    },
    {
     "data": {
      "application/vnd.jupyter.widget-view+json": {
       "model_id": "2c110c9c9d0c4a0daa0c6a926856917a",
       "version_major": 2,
       "version_minor": 0
      },
      "text/plain": [
       "Assigning IDs:   0%|          | 0/42925 [00:00<?, ?it/s]"
      ]
     },
     "metadata": {},
     "output_type": "display_data"
    }
   ],
   "source": [
    "trajectory_data_path = \"/store/Projects_CRM/CRM4_data/trajectory/raw/2024\"\n",
    "\n",
    "start = datetime.strptime(\"2024-07-01\", \"%Y-%m-%d\")\n",
    "end = datetime.strptime(\"2024-08-01\", \"%Y-%m-%d\")\n",
    "\n",
    "days = [start + timedelta(days=i) for i in range((end - start).days)]\n",
    "\n",
    "for day in days:\n",
    "    # Load trajectory data for day\n",
    "    print(f\"processing {str(day)[0:4]}-{str(day)[5:7]}-{str(day)[8:10]}\")\n",
    "    list_parquet = glob.glob(\n",
    "        opj(\n",
    "            trajectory_data_path,\n",
    "            f\"{str(day)[0:4]}-{str(day)[5:7]}-{str(day)[8:10]}*.parquet\",\n",
    "        )\n",
    "    )\n",
    "    t = Traffic(\n",
    "        pd.concat(\n",
    "            [pd.read_parquet(f) for f in list_parquet],\n",
    "            axis=0,\n",
    "        )\n",
    "    )\n",
    "\n",
    "    # Assign ids\n",
    "    t_id = (\n",
    "        t.iterate_lazy(iterate_kw={\"by\": \"10s\"})\n",
    "        .assign_id(\"{self.start:%y/%m/%d}_{self.callsign}_{idx:>03}\")\n",
    "        .eval(max_workers=1, desc=\"Assigning IDs\")\n",
    "    )\n",
    "\n",
    "    t_enriched = t_id.aircraft_data()\n",
    "\n",
    "    # Other processing steps\n",
    "    t_proc = (\n",
    "        t_enriched.iterate_lazy()\n",
    "        .pipe(remove_short)\n",
    "        .pipe(remove_ground_only)\n",
    "        .filter(\n",
    "            FilterMedian(\n",
    "                altitude=3, geoaltitude=3, vertical_rate=3, groundspeed=3, track=0\n",
    "            )\n",
    "        )\n",
    "        .filter(\n",
    "            FilterMean(\n",
    "                altitude=3, geoaltitude=3, vertical_rate=3, groundspeed=3, track=0\n",
    "            )\n",
    "        )\n",
    "        .clip(lsasfra)\n",
    "        .pipe(resample_flight)\n",
    "        .eval(max_workers=40, desc=\"Processing\")\n",
    "    )\n",
    "    t_proc.to_parquet(\n",
    "        f\"/store/fusg/VT1/trajectory_data/{str(day)[0:4]}_{str(day)[5:7]}_{str(day)[8:10]}.parquet\"\n",
    "    )"
   ]
  }
 ],
 "metadata": {
  "kernelspec": {
   "display_name": "Python 3 (ipykernel)",
   "language": "python",
   "name": "python3"
  },
  "language_info": {
   "codemirror_mode": {
    "name": "ipython",
    "version": 3
   },
   "file_extension": ".py",
   "mimetype": "text/x-python",
   "name": "python",
   "nbconvert_exporter": "python",
   "pygments_lexer": "ipython3",
   "version": "3.10.16"
  }
 },
 "nbformat": 4,
 "nbformat_minor": 5
}
