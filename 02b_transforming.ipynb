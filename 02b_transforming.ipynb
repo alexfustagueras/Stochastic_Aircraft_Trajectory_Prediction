{
 "cells": [
  {
   "cell_type": "markdown",
   "id": "c0aa8e39",
   "metadata": {},
   "source": [
    "# Step 2b: Transforming and Splitting"
   ]
  },
  {
   "cell_type": "markdown",
   "id": "46fc4243",
   "metadata": {},
   "source": [
    "## Import required libraries and variables"
   ]
  },
  {
   "cell_type": "code",
   "execution_count": 1,
   "id": "19b6ace3",
   "metadata": {},
   "outputs": [],
   "source": [
    "import random\n",
    "import pickle\n",
    "import numpy as np\n",
    "import pandas as pd\n",
    "from joblib import dump\n",
    "from traffic.core import Traffic, Flight\n",
    "from multiprocessing import Pool\n",
    "\n",
    "from sklearn.preprocessing import MinMaxScaler\n",
    "from sklearn.preprocessing import StandardScaler\n",
    "from sklearn.preprocessing import OneHotEncoder"
   ]
  },
  {
   "cell_type": "code",
   "execution_count": 2,
   "id": "afc07b09",
   "metadata": {},
   "outputs": [
    {
     "name": "stdout",
     "output_type": "stream",
     "text": [
      "Total en-route segments: 180514\n",
      "Loaded frequent typecodes: ['A320', 'B738', 'A319', 'A20N', 'A321', 'B38M', 'BCS3', 'A21N', 'B77W', 'E190', 'B789', 'A333', 'E195', 'A359', 'PC12', 'BCS1']\n"
     ]
    }
   ],
   "source": [
    "version = 'v4'\n",
    "\n",
    "df = pd.read_parquet(\n",
    "    f\"/store/fusg/VT1/training/{version}/traffic_enroute_filtered.parquet\"\n",
    ")\n",
    "df = df.loc[:, ~df.columns.str.startswith(\"__index_level_\")]\n",
    "t_enroute = Traffic(df)\n",
    "print(f\"Total en-route segments: {len(t_enroute)}\")\n",
    "\n",
    "frequent_types = np.load(f\"/store/fusg/VT1/training/{version}/frequent_typecodes.npy\", allow_pickle=True).tolist()\n",
    "print(\"Loaded frequent typecodes:\", frequent_types)"
   ]
  },
  {
   "cell_type": "markdown",
   "id": "7bbb31c9",
   "metadata": {},
   "source": [
    "## Encoding typecode and time"
   ]
  },
  {
   "cell_type": "code",
   "execution_count": 3,
   "id": "daca895a",
   "metadata": {},
   "outputs": [
    {
     "name": "stdout",
     "output_type": "stream",
     "text": [
      "Total flights kept: 180514\n"
     ]
    },
    {
     "data": {
      "text/plain": [
       "Index(['timestamp', 'icao24', 'flight_id', 'callsign', 'typecode', 'latitude',\n",
       "       'longitude', 'track', 'altitude', 'groundspeed', 'vertical_rate'],\n",
       "      dtype='object')"
      ]
     },
     "execution_count": 3,
     "metadata": {},
     "output_type": "execute_result"
    }
   ],
   "source": [
    "t_encode = t_enroute\n",
    "t_encode.data = t_enroute.data[t_encode.data['typecode'].isin(frequent_types)]\n",
    "\n",
    "print(f\"Total flights kept: {len(t_encode)}\")\n",
    "t_encode.data.columns"
   ]
  },
  {
   "cell_type": "code",
   "execution_count": 4,
   "id": "a0a5dd73",
   "metadata": {},
   "outputs": [
    {
     "name": "stdout",
     "output_type": "stream",
     "text": [
      "Total flights kept: 180514\n"
     ]
    },
    {
     "data": {
      "text/plain": [
       "Index(['timestamp', 'icao24', 'flight_id', 'callsign', 'typecode', 'latitude',\n",
       "       'longitude', 'track', 'altitude', 'groundspeed', 'vertical_rate',\n",
       "       'typecode_A20N', 'typecode_A21N', 'typecode_A319', 'typecode_A320',\n",
       "       'typecode_A321', 'typecode_A333', 'typecode_A359', 'typecode_B38M',\n",
       "       'typecode_B738', 'typecode_B77W', 'typecode_B789', 'typecode_BCS1',\n",
       "       'typecode_BCS3', 'typecode_E190', 'typecode_E195', 'typecode_PC12'],\n",
       "      dtype='object')"
      ]
     },
     "execution_count": 4,
     "metadata": {},
     "output_type": "execute_result"
    }
   ],
   "source": [
    "# Definition of columns to be encoded\n",
    "categorical_variables = [\"typecode\"]\n",
    "enc = OneHotEncoder()\n",
    "enc.fit(t_encode.data[categorical_variables])\n",
    "\n",
    "# Encoding of the columns and adding them to the DataFrame\n",
    "encoded_variables = enc.transform(t_encode.data[categorical_variables]).toarray()\n",
    "new_column_names = enc.get_feature_names_out(categorical_variables)\n",
    "encoded_df = pd.DataFrame(\n",
    "    encoded_variables, columns=new_column_names, index=t_encode.data.index\n",
    ")\n",
    "t_encode.data = pd.concat([t_encode.data, encoded_df], axis=1)\n",
    "\n",
    "print(f\"Total flights kept: {len(t_encode)}\")\n",
    "t_encode.data.columns"
   ]
  },
  {
   "cell_type": "code",
   "execution_count": 5,
   "id": "a8ce5555",
   "metadata": {},
   "outputs": [
    {
     "name": "stdout",
     "output_type": "stream",
     "text": [
      "Total flights kept: 180514\n"
     ]
    },
    {
     "data": {
      "text/plain": [
       "Index(['timestamp', 'icao24', 'flight_id', 'callsign', 'typecode', 'latitude',\n",
       "       'longitude', 'track', 'altitude', 'groundspeed', 'vertical_rate',\n",
       "       'typecode_A20N', 'typecode_A21N', 'typecode_A319', 'typecode_A320',\n",
       "       'typecode_A321', 'typecode_A333', 'typecode_A359', 'typecode_B38M',\n",
       "       'typecode_B738', 'typecode_B77W', 'typecode_B789', 'typecode_BCS1',\n",
       "       'typecode_BCS3', 'typecode_E190', 'typecode_E195', 'typecode_PC12',\n",
       "       'hour', 'weekday', 'month', 'hour_sin', 'hour_cos', 'weekday_sin',\n",
       "       'weekday_cos', 'month_sin', 'month_cos'],\n",
       "      dtype='object')"
      ]
     },
     "execution_count": 5,
     "metadata": {},
     "output_type": "execute_result"
    }
   ],
   "source": [
    "t_encode.data['timestamp'] = pd.to_datetime(t_encode.data['timestamp'])\n",
    "\n",
    "# Extract hour, weekday and month\n",
    "t_encode.data['hour'] = t_encode.data['timestamp'].dt.hour\n",
    "t_encode.data['weekday'] = t_encode.data['timestamp'].dt.weekday\n",
    "t_encode.data['month'] = t_encode.data['timestamp'].dt.month\n",
    "\n",
    "def add_cyclic(df, col, period):\n",
    "    angle = 2 * np.pi * df[col] / period\n",
    "    df[f\"{col}_sin\"] = np.sin(angle)          # range [-1, 1]\n",
    "    df[f\"{col}_cos\"] = np.cos(angle)\n",
    "    return df\n",
    "\n",
    "t_encode.data = add_cyclic(t_encode.data, \"hour\",    24)\n",
    "t_encode.data = add_cyclic(t_encode.data, \"weekday\",  7)\n",
    "t_encode.data = add_cyclic(t_encode.data, \"month\",   12)\n",
    "\n",
    "print(f\"Total flights kept: {len(t_encode)}\")\n",
    "t_encode.data.columns"
   ]
  },
  {
   "cell_type": "markdown",
   "id": "98b4a2d0",
   "metadata": {},
   "source": [
    "## Scaling numerical features"
   ]
  },
  {
   "cell_type": "code",
   "execution_count": 6,
   "id": "1df89fd4",
   "metadata": {},
   "outputs": [
    {
     "name": "stdout",
     "output_type": "stream",
     "text": [
      "Total flights kept: 180514\n",
      "Index(['timestamp', 'icao24', 'flight_id', 'callsign', 'typecode', 'latitude',\n",
      "       'longitude', 'track', 'altitude', 'groundspeed', 'vertical_rate',\n",
      "       'typecode_A20N', 'typecode_A21N', 'typecode_A319', 'typecode_A320',\n",
      "       'typecode_A321', 'typecode_A333', 'typecode_A359', 'typecode_B38M',\n",
      "       'typecode_B738', 'typecode_B77W', 'typecode_B789', 'typecode_BCS1',\n",
      "       'typecode_BCS3', 'typecode_E190', 'typecode_E195', 'typecode_PC12',\n",
      "       'hour', 'weekday', 'month', 'hour_sin', 'hour_cos', 'weekday_sin',\n",
      "       'weekday_cos', 'month_sin', 'month_cos', 'track_sin', 'track_cos',\n",
      "       'heading_rate', 'groundspeed_change', 'vert_acc'],\n",
      "      dtype='object')\n"
     ]
    }
   ],
   "source": [
    "def add_numerical_features(df):\n",
    "    df = df.copy()\n",
    "\n",
    "    df[\"timestamp\"] = df[\"timestamp\"].dt.tz_localize(None)\n",
    "    secs = df[\"timestamp\"].diff().dt.total_seconds().fillna(1.0)\n",
    "\n",
    "    # protect against 0-second gaps\n",
    "    secs[secs == 0] = 1.0\n",
    "\n",
    "    # --- sin/cos of track ----------------------------------------\n",
    "    tr_rad = np.deg2rad(df[\"track\"])\n",
    "    df[\"track_sin\"] = np.sin(tr_rad)\n",
    "    df[\"track_cos\"] = np.cos(tr_rad)\n",
    "\n",
    "    # --- heading‐rate  (deg/s) ------------------------------------\n",
    "    tr_unw  = np.unwrap(tr_rad)\n",
    "    hdg_rate = np.diff(np.insert(tr_unw, 0, tr_unw[0])) / secs\n",
    "    df[\"heading_rate\"] = hdg_rate * 180 / np.pi\n",
    "\n",
    "    # --- groundspeed change  (m/s²) -------------------------------\n",
    "    df[\"groundspeed_change\"] = (\n",
    "        df[\"groundspeed\"].diff().fillna(0) / secs\n",
    "    )\n",
    "\n",
    "    # --- vertical acceleration  (m/s²) ---------------------------\n",
    "    df[\"vert_acc\"] = df[\"vertical_rate\"].diff().fillna(0) / (secs)\n",
    "\n",
    "    return df\n",
    "\n",
    "t_encode.data = add_numerical_features(t_encode.data)\n",
    "print(f\"Total flights kept: {len(t_encode)}\")\n",
    "print(t_encode.data.columns)"
   ]
  },
  {
   "cell_type": "code",
   "execution_count": 7,
   "id": "9779a72b",
   "metadata": {},
   "outputs": [
    {
     "name": "stdout",
     "output_type": "stream",
     "text": [
      "Any infinite values? groundspeed_change    False\n",
      "vert_acc              False\n",
      "heading_rate          False\n",
      "dtype: bool\n"
     ]
    }
   ],
   "source": [
    "# Verify no inf / -inf\n",
    "bad_vals = np.isinf(t_encode.data[[\"groundspeed_change\",\"vert_acc\",\"heading_rate\"]]).any()\n",
    "print(\"Any infinite values?\", bad_vals)"
   ]
  },
  {
   "cell_type": "code",
   "execution_count": null,
   "id": "f6d78623",
   "metadata": {},
   "outputs": [
    {
     "name": "stdout",
     "output_type": "stream",
     "text": [
      "Rows train : 56562254\n",
      "Rows val   : 21380018\n",
      "Rows test  : 20736300\n",
      "Unique flight_id in train : 82631\n",
      "Unique flight_id in val   : 30746\n",
      "Unique flight_id in test  : 28282\n"
     ]
    }
   ],
   "source": [
    "df = t_encode.data\n",
    "df[\"date\"] = df[\"timestamp\"].dt.date\n",
    "\n",
    "unique_days = df[\"date\"].unique().tolist()\n",
    "random.shuffle(unique_days)\n",
    "\n",
    "n_days       = len(unique_days)\n",
    "days_train   = set(unique_days[: int(0.6 * n_days)])\n",
    "days_val     = set(unique_days[int(0.6 * n_days): int(0.8 * n_days)])\n",
    "days_test    = set(unique_days[int(0.8 * n_days):])\n",
    "\n",
    "def bucket_day(day):\n",
    "    if day in days_train: return \"train\"\n",
    "    if day in days_val:   return \"val\"\n",
    "    return \"test\"\n",
    "\n",
    "df[\"day_bucket\"] = df[\"date\"].map(bucket_day)\n",
    "\n",
    "# keep all flight segments of a flight_id inside its day bucket\n",
    "train_mask = (df[\"day_bucket\"] == \"train\")\n",
    "val_mask   = (df[\"day_bucket\"] == \"val\")\n",
    "test_mask  = (df[\"day_bucket\"] == \"test\")\n",
    "\n",
    "# sanity checks\n",
    "print(\"Rows train :\", train_mask.sum())\n",
    "print(\"Rows val   :\", val_mask.sum())\n",
    "print(\"Rows test  :\", test_mask.sum())\n",
    "\n",
    "print(\"Unique flight_id in train :\", df.loc[train_mask, \"flight_id\"].nunique())\n",
    "print(\"Unique flight_id in val   :\", df.loc[val_mask,   \"flight_id\"].nunique())\n",
    "print(\"Unique flight_id in test  :\", df.loc[test_mask,  \"flight_id\"].nunique())"
   ]
  },
  {
   "cell_type": "code",
   "execution_count": null,
   "id": "02058189",
   "metadata": {},
   "outputs": [
    {
     "name": "stdout",
     "output_type": "stream",
     "text": [
      "Scaled INPUT sample:\n",
      "   latitude_scaled  longitude_scaled  altitude_scaled  vertical_rate_scaled  \\\n",
      "0         0.133435          0.356275         0.333333              0.500000   \n",
      "1         0.133435          0.356275         0.333333              0.500000   \n",
      "2         0.133743          0.356256         0.333333              0.500721   \n",
      "3         0.134007          0.356243         0.333333              0.501074   \n",
      "4         0.134284          0.356224         0.333333              0.501718   \n",
      "\n",
      "   groundspeed_scaled  heading_rate_scaled  groundspeed_change_scaled  \\\n",
      "0            0.063209             0.499947                   0.504169   \n",
      "1            0.063209             0.499947                   0.504169   \n",
      "2            0.063215             0.499832                   0.504174   \n",
      "3            0.063223             0.499509                   0.504176   \n",
      "4            0.063223             0.499947                   0.504169   \n",
      "\n",
      "   vert_acc_scaled  \n",
      "0         0.494521  \n",
      "1         0.494521  \n",
      "2         0.495569  \n",
      "3         0.495033  \n",
      "4         0.495457  \n",
      "\n",
      "Scaled OUTPUT sample:\n",
      "   latitude_scaled  longitude_scaled  altitude_scaled\n",
      "0         0.133435          0.356275         0.333333\n",
      "1         0.133435          0.356275         0.333333\n",
      "2         0.133743          0.356256         0.333333\n",
      "3         0.134007          0.356243         0.333333\n",
      "4         0.134284          0.356224         0.333333\n"
     ]
    }
   ],
   "source": [
    "base       = \"/store/fusg/VT1/training\"\n",
    "vars_dir   = f\"{base}/{version}/variables\"\n",
    "\n",
    "num_in_cols = [\n",
    "    \"latitude\", \"longitude\", \"altitude\",\n",
    "    \"vertical_rate\", \"groundspeed\",\n",
    "    \"heading_rate\", \"groundspeed_change\", \"vert_acc\"\n",
    "]\n",
    "out_cols = [\"latitude\", \"longitude\", \"altitude\"]\n",
    "\n",
    "scaler_in  = MinMaxScaler().fit(df.loc[train_mask, num_in_cols])\n",
    "scaler_out = MinMaxScaler().fit(df.loc[train_mask, out_cols])\n",
    "\n",
    "with open(f\"{vars_dir}/scaler_in.pkl\",  \"wb\") as f:\n",
    "    pickle.dump(scaler_in, f)\n",
    "with open(f\"{vars_dir}/scaler_out.pkl\", \"wb\") as f:\n",
    "    pickle.dump(scaler_out, f)\n",
    "\n",
    "for col in num_in_cols:\n",
    "    df[f\"{col}_scaled\"] = scaler_in.transform(df[num_in_cols])[:, num_in_cols.index(col)]\n",
    "for col in out_cols:\n",
    "    df[f\"{col}_scaled\"] = scaler_out.transform(df[out_cols])[:, out_cols.index(col)]\n",
    "\n",
    "print(\"Scaled INPUT sample:\")\n",
    "print(df[[f\"{c}_scaled\" for c in num_in_cols]].head())\n",
    "print(\"\\nScaled OUTPUT sample:\")\n",
    "print(df[[f\"{c}_scaled\" for c in out_cols]].head())"
   ]
  },
  {
   "cell_type": "markdown",
   "id": "42220010",
   "metadata": {},
   "source": [
    "## Spliting the data into Training, Testing and Validation"
   ]
  },
  {
   "cell_type": "code",
   "execution_count": 15,
   "id": "6b8679b4",
   "metadata": {},
   "outputs": [
    {
     "name": "stdout",
     "output_type": "stream",
     "text": [
      "Train flights: 82631\n",
      "Val flights:   30746\n",
      "Test flights:  28282\n"
     ]
    }
   ],
   "source": [
    "ids_train = df.loc[train_mask, \"flight_id\"].unique().tolist()\n",
    "ids_val   = df.loc[val_mask,   \"flight_id\"].unique().tolist()\n",
    "ids_test  = df.loc[test_mask,  \"flight_id\"].unique().tolist()\n",
    "\n",
    "t_train = t_encode[ids_train]\n",
    "t_val   = t_encode[ids_val]\n",
    "t_test  = t_encode[ids_test]\n",
    "\n",
    "print(f\"Train flights: {len(t_train)}\")\n",
    "print(f\"Val flights:   {len(t_val)}\")\n",
    "print(f\"Test flights:  {len(t_test)}\")"
   ]
  },
  {
   "cell_type": "code",
   "execution_count": 16,
   "id": "a96ca596",
   "metadata": {},
   "outputs": [],
   "source": [
    "# Save the data\n",
    "t_train.reset_index(drop=True).to_parquet(\n",
    "    f\"/store/fusg/VT1/training/{version}/variables/t_train.parquet\"\n",
    ")\n",
    "t_val.reset_index(drop=True).to_parquet(\n",
    "    f\"/store/fusg/VT1/training/{version}/variables/t_val.parquet\"\n",
    ")\n",
    "t_test.reset_index(drop=True).to_parquet(\n",
    "    f\"/store/fusg/VT1/training/{version}/variables/t_test.parquet\"\n",
    ")"
   ]
  },
  {
   "cell_type": "code",
   "execution_count": 17,
   "id": "11fa3102",
   "metadata": {},
   "outputs": [
    {
     "data": {
      "text/plain": [
       "Index(['timestamp', 'icao24', 'flight_id', 'callsign', 'typecode', 'latitude',\n",
       "       'longitude', 'track', 'altitude', 'groundspeed', 'vertical_rate',\n",
       "       'typecode_A20N', 'typecode_A21N', 'typecode_A319', 'typecode_A320',\n",
       "       'typecode_A321', 'typecode_A333', 'typecode_A359', 'typecode_B38M',\n",
       "       'typecode_B738', 'typecode_B77W', 'typecode_B789', 'typecode_BCS1',\n",
       "       'typecode_BCS3', 'typecode_E190', 'typecode_E195', 'typecode_PC12',\n",
       "       'hour', 'weekday', 'month', 'hour_sin', 'hour_cos', 'weekday_sin',\n",
       "       'weekday_cos', 'month_sin', 'month_cos', 'track_sin', 'track_cos',\n",
       "       'heading_rate', 'groundspeed_change', 'vert_acc', 'date', 'day_bucket',\n",
       "       'latitude_scaled', 'longitude_scaled', 'altitude_scaled',\n",
       "       'vertical_rate_scaled', 'groundspeed_scaled', 'heading_rate_scaled',\n",
       "       'groundspeed_change_scaled', 'vert_acc_scaled'],\n",
       "      dtype='object')"
      ]
     },
     "execution_count": 17,
     "metadata": {},
     "output_type": "execute_result"
    }
   ],
   "source": [
    "t_train.data.columns"
   ]
  }
 ],
 "metadata": {
  "kernelspec": {
   "display_name": "Python 3 (ipykernel)",
   "language": "python",
   "name": "python3"
  }
 },
 "nbformat": 4,
 "nbformat_minor": 5
}
